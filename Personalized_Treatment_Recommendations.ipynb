{
  "nbformat": 4,
  "nbformat_minor": 0,
  "metadata": {
    "colab": {
      "provenance": [],
      "authorship_tag": "ABX9TyOZLb/yiao8bg6d3H7MDVud",
      "include_colab_link": true
    },
    "kernelspec": {
      "name": "python3",
      "display_name": "Python 3"
    },
    "language_info": {
      "name": "python"
    }
  },
  "cells": [
    {
      "cell_type": "markdown",
      "metadata": {
        "id": "view-in-github",
        "colab_type": "text"
      },
      "source": [
        "<a href=\"https://colab.research.google.com/github/Ganeshkumar-p/Personalized_Treatment_Recommendations/blob/main/Personalized_Treatment_Recommendations.ipynb\" target=\"_parent\"><img src=\"https://colab.research.google.com/assets/colab-badge.svg\" alt=\"Open In Colab\"/></a>"
      ]
    },
    {
      "cell_type": "code",
      "execution_count": 64,
      "metadata": {
        "id": "LiVu6qtYXtwt"
      },
      "outputs": [],
      "source": [
        "import os\n",
        "\n",
        "\n",
        "import numpy as np\n",
        "import pandas as pd\n",
        "import matplotlib.pyplot as plt\n",
        "import seaborn as sns\n",
        "from sklearn.model_selection import train_test_split\n",
        "from sklearn.preprocessing import StandardScaler\n",
        "from sklearn.svm import SVC\n",
        "from sklearn.ensemble import RandomForestClassifier\n",
        "from sklearn.tree import DecisionTreeClassifier\n",
        "from sklearn.neighbors import KNeighborsClassifier\n",
        "from sklearn.metrics import classification_report, accuracy_score"
      ]
    },
    {
      "cell_type": "code",
      "source": [
        "from google.colab import drive\n",
        "drive.mount(\"/content/drive\")"
      ],
      "metadata": {
        "id": "vO4a00whYNB3",
        "colab": {
          "base_uri": "https://localhost:8080/"
        },
        "outputId": "8e9722d2-6a4f-4ec7-dc24-b6be6663a297"
      },
      "execution_count": 65,
      "outputs": [
        {
          "output_type": "stream",
          "name": "stdout",
          "text": [
            "Drive already mounted at /content/drive; to attempt to forcibly remount, call drive.mount(\"/content/drive\", force_remount=True).\n"
          ]
        }
      ]
    },
    {
      "cell_type": "code",
      "source": [
        "data=pd.read_csv(\"/content/drive/MyDrive/dataset_PMRS/medicaldata.csv\")"
      ],
      "metadata": {
        "id": "qWNNKee-S9E8"
      },
      "execution_count": 66,
      "outputs": []
    },
    {
      "cell_type": "code",
      "source": [
        "print(data.columns)"
      ],
      "metadata": {
        "colab": {
          "base_uri": "https://localhost:8080/"
        },
        "id": "Ud4nN0-XYZsG",
        "outputId": "e5e8ebe6-2d72-4653-f6ed-674ed7e0f2b3"
      },
      "execution_count": 67,
      "outputs": [
        {
          "output_type": "stream",
          "name": "stdout",
          "text": [
            "Index(['Name', 'DateOfBirth', 'Gender', 'Symptoms', 'Causes', 'Disease',\n",
            "       'Medicine'],\n",
            "      dtype='object')\n"
          ]
        }
      ]
    },
    {
      "cell_type": "code",
      "source": [
        "# prompt: print(data.columns) give count of each columns\n",
        "\n",
        "for column in data.columns:\n",
        "  print(f\"{column}: {data[column].count()}\")"
      ],
      "metadata": {
        "colab": {
          "base_uri": "https://localhost:8080/"
        },
        "id": "CYpe2O4zYiDT",
        "outputId": "6265c200-e4d9-4d58-aee3-8045a2b5751e"
      },
      "execution_count": 88,
      "outputs": [
        {
          "output_type": "stream",
          "name": "stdout",
          "text": [
            "Name: 287\n",
            "DateOfBirth: 287\n",
            "Gender: 287\n",
            "Symptoms: 287\n",
            "Causes: 287\n",
            "Disease: 287\n",
            "Medicine: 287\n"
          ]
        }
      ]
    },
    {
      "cell_type": "code",
      "source": [
        "data.info()"
      ],
      "metadata": {
        "colab": {
          "base_uri": "https://localhost:8080/"
        },
        "id": "0welydkdYcNe",
        "outputId": "7243a660-cd10-4a43-ac14-ed06441f4b6f"
      },
      "execution_count": 68,
      "outputs": [
        {
          "output_type": "stream",
          "name": "stdout",
          "text": [
            "<class 'pandas.core.frame.DataFrame'>\n",
            "RangeIndex: 287 entries, 0 to 286\n",
            "Data columns (total 7 columns):\n",
            " #   Column       Non-Null Count  Dtype \n",
            "---  ------       --------------  ----- \n",
            " 0   Name         241 non-null    object\n",
            " 1   DateOfBirth  241 non-null    object\n",
            " 2   Gender       242 non-null    object\n",
            " 3   Symptoms     247 non-null    object\n",
            " 4   Causes       245 non-null    object\n",
            " 5   Disease      249 non-null    object\n",
            " 6   Medicine     242 non-null    object\n",
            "dtypes: object(7)\n",
            "memory usage: 15.8+ KB\n"
          ]
        }
      ]
    },
    {
      "cell_type": "code",
      "source": [
        "data.isnull().sum()"
      ],
      "metadata": {
        "colab": {
          "base_uri": "https://localhost:8080/",
          "height": 303
        },
        "id": "tq5_YK6iYmtu",
        "outputId": "2be8b516-7e6f-451d-804c-589f3ccd6846"
      },
      "execution_count": 69,
      "outputs": [
        {
          "output_type": "execute_result",
          "data": {
            "text/plain": [
              "Name           46\n",
              "DateOfBirth    46\n",
              "Gender         45\n",
              "Symptoms       40\n",
              "Causes         42\n",
              "Disease        38\n",
              "Medicine       45\n",
              "dtype: int64"
            ],
            "text/html": [
              "<div>\n",
              "<style scoped>\n",
              "    .dataframe tbody tr th:only-of-type {\n",
              "        vertical-align: middle;\n",
              "    }\n",
              "\n",
              "    .dataframe tbody tr th {\n",
              "        vertical-align: top;\n",
              "    }\n",
              "\n",
              "    .dataframe thead th {\n",
              "        text-align: right;\n",
              "    }\n",
              "</style>\n",
              "<table border=\"1\" class=\"dataframe\">\n",
              "  <thead>\n",
              "    <tr style=\"text-align: right;\">\n",
              "      <th></th>\n",
              "      <th>0</th>\n",
              "    </tr>\n",
              "  </thead>\n",
              "  <tbody>\n",
              "    <tr>\n",
              "      <th>Name</th>\n",
              "      <td>46</td>\n",
              "    </tr>\n",
              "    <tr>\n",
              "      <th>DateOfBirth</th>\n",
              "      <td>46</td>\n",
              "    </tr>\n",
              "    <tr>\n",
              "      <th>Gender</th>\n",
              "      <td>45</td>\n",
              "    </tr>\n",
              "    <tr>\n",
              "      <th>Symptoms</th>\n",
              "      <td>40</td>\n",
              "    </tr>\n",
              "    <tr>\n",
              "      <th>Causes</th>\n",
              "      <td>42</td>\n",
              "    </tr>\n",
              "    <tr>\n",
              "      <th>Disease</th>\n",
              "      <td>38</td>\n",
              "    </tr>\n",
              "    <tr>\n",
              "      <th>Medicine</th>\n",
              "      <td>45</td>\n",
              "    </tr>\n",
              "  </tbody>\n",
              "</table>\n",
              "</div><br><label><b>dtype:</b> int64</label>"
            ]
          },
          "metadata": {},
          "execution_count": 69
        }
      ]
    },
    {
      "cell_type": "code",
      "source": [
        "missing_values = data.isnull().sum()\n",
        "\n",
        "\n",
        "print(missing_values[missing_values > 0])"
      ],
      "metadata": {
        "colab": {
          "base_uri": "https://localhost:8080/"
        },
        "id": "Z5RmwsQjY4V1",
        "outputId": "ba130cd7-3eca-41ed-8532-00c8c60b3427"
      },
      "execution_count": 70,
      "outputs": [
        {
          "output_type": "stream",
          "name": "stdout",
          "text": [
            "Name           46\n",
            "DateOfBirth    46\n",
            "Gender         45\n",
            "Symptoms       40\n",
            "Causes         42\n",
            "Disease        38\n",
            "Medicine       45\n",
            "dtype: int64\n"
          ]
        }
      ]
    },
    {
      "cell_type": "code",
      "source": [
        "# Step 1: Parse the 'DateOfBirth' column with correct format (dayfirst=True to handle dd-mm-yyyy)\n",
        "data['DateOfBirth'] = pd.to_datetime(data['DateOfBirth'], dayfirst=True, errors='coerce')\n",
        "\n",
        "# Step 2: Calculate the median date, ignoring missing values\n",
        "median_date = data['DateOfBirth'].dropna().median()\n",
        "\n",
        "# Step 3: Fill missing values in 'DateOfBirth' with the median date\n",
        "data['DateOfBirth'] = data['DateOfBirth'].fillna(median_date)\n",
        "\n",
        "# Step 4: Handle missing values for categorical columns\n",
        "categorical_columns = ['Gender', 'Symptoms', 'Causes', 'Disease', 'Medicine']\n",
        "for column in categorical_columns:\n",
        "    # Fill missing values with the most frequent (mode) value in each column\n",
        "    data[column] = data[column].fillna(data[column].mode()[0])\n"
      ],
      "metadata": {
        "id": "3QCI_v4LY6tO"
      },
      "execution_count": 71,
      "outputs": []
    },
    {
      "cell_type": "code",
      "source": [
        "\n",
        "missing_values = data.isnull().sum()\n",
        "\n",
        "\n",
        "print(missing_values[missing_values > 0])"
      ],
      "metadata": {
        "colab": {
          "base_uri": "https://localhost:8080/"
        },
        "id": "CxP_yts9ZOJ-",
        "outputId": "b8d8487e-8c50-4813-e0f6-5dfc433bc4d3"
      },
      "execution_count": 72,
      "outputs": [
        {
          "output_type": "stream",
          "name": "stdout",
          "text": [
            "Name    46\n",
            "dtype: int64\n"
          ]
        }
      ]
    },
    {
      "cell_type": "code",
      "source": [
        "# Instead of using inplace=True, reassign the filled column back to the DataFrame\n",
        "data['Name'] = data['Name'].fillna('Unknown')"
      ],
      "metadata": {
        "id": "dqJ7qWiOZtGm"
      },
      "execution_count": 73,
      "outputs": []
    },
    {
      "cell_type": "code",
      "source": [
        "data.isnull().sum()"
      ],
      "metadata": {
        "colab": {
          "base_uri": "https://localhost:8080/",
          "height": 303
        },
        "id": "OvXGtmYyZxAH",
        "outputId": "54dba3e7-c4ff-4916-ff13-b50e807636c9"
      },
      "execution_count": 74,
      "outputs": [
        {
          "output_type": "execute_result",
          "data": {
            "text/plain": [
              "Name           0\n",
              "DateOfBirth    0\n",
              "Gender         0\n",
              "Symptoms       0\n",
              "Causes         0\n",
              "Disease        0\n",
              "Medicine       0\n",
              "dtype: int64"
            ],
            "text/html": [
              "<div>\n",
              "<style scoped>\n",
              "    .dataframe tbody tr th:only-of-type {\n",
              "        vertical-align: middle;\n",
              "    }\n",
              "\n",
              "    .dataframe tbody tr th {\n",
              "        vertical-align: top;\n",
              "    }\n",
              "\n",
              "    .dataframe thead th {\n",
              "        text-align: right;\n",
              "    }\n",
              "</style>\n",
              "<table border=\"1\" class=\"dataframe\">\n",
              "  <thead>\n",
              "    <tr style=\"text-align: right;\">\n",
              "      <th></th>\n",
              "      <th>0</th>\n",
              "    </tr>\n",
              "  </thead>\n",
              "  <tbody>\n",
              "    <tr>\n",
              "      <th>Name</th>\n",
              "      <td>0</td>\n",
              "    </tr>\n",
              "    <tr>\n",
              "      <th>DateOfBirth</th>\n",
              "      <td>0</td>\n",
              "    </tr>\n",
              "    <tr>\n",
              "      <th>Gender</th>\n",
              "      <td>0</td>\n",
              "    </tr>\n",
              "    <tr>\n",
              "      <th>Symptoms</th>\n",
              "      <td>0</td>\n",
              "    </tr>\n",
              "    <tr>\n",
              "      <th>Causes</th>\n",
              "      <td>0</td>\n",
              "    </tr>\n",
              "    <tr>\n",
              "      <th>Disease</th>\n",
              "      <td>0</td>\n",
              "    </tr>\n",
              "    <tr>\n",
              "      <th>Medicine</th>\n",
              "      <td>0</td>\n",
              "    </tr>\n",
              "  </tbody>\n",
              "</table>\n",
              "</div><br><label><b>dtype:</b> int64</label>"
            ]
          },
          "metadata": {},
          "execution_count": 74
        }
      ]
    },
    {
      "cell_type": "code",
      "source": [
        "missing_values = data.isnull().sum()\n",
        "\n",
        "\n",
        "print(missing_values[missing_values > 0])"
      ],
      "metadata": {
        "colab": {
          "base_uri": "https://localhost:8080/"
        },
        "id": "YdmJriQEZ1Oe",
        "outputId": "2373b678-48c8-4d7a-9621-9f6e0e6c0da5"
      },
      "execution_count": 75,
      "outputs": [
        {
          "output_type": "stream",
          "name": "stdout",
          "text": [
            "Series([], dtype: int64)\n"
          ]
        }
      ]
    },
    {
      "cell_type": "code",
      "source": [
        "import pandas as pd\n",
        "from sklearn.preprocessing import LabelEncoder\n",
        "\n",
        "\n",
        "label_encoders = {}\n",
        "for column in data.columns:\n",
        "    if data[column].dtype == 'object':\n",
        "        le = LabelEncoder()\n",
        "        data[column] = le.fit_transform(data[column])\n",
        "        label_encoders[column] = le"
      ],
      "metadata": {
        "id": "NLHhUvBbZ8Wm"
      },
      "execution_count": 76,
      "outputs": []
    },
    {
      "cell_type": "code",
      "source": [
        "sns.countplot(data=data, x='Medicine')\n",
        "plt.title('Distribution of Medicine')\n",
        "plt.show()\n",
        "\n",
        "\n",
        "numeric_columns = ['DateOfBirth']\n",
        "sns.heatmap(data[numeric_columns].corr(), annot=True, cmap='coolwarm')\n",
        "plt.title('Correlation Heatmap')\n",
        "plt.show()"
      ],
      "metadata": {
        "colab": {
          "base_uri": "https://localhost:8080/",
          "height": 907
        },
        "id": "3aJEhaovZ-Xu",
        "outputId": "8ac70be1-66e1-4fd6-b223-0775b5d560d6"
      },
      "execution_count": 77,
      "outputs": [
        {
          "output_type": "display_data",
          "data": {
            "text/plain": [
              "<Figure size 640x480 with 1 Axes>"
            ],
            "image/png": "[encoded data removed]"
          },
          "metadata": {}
        },
        {
          "output_type": "display_data",
          "data": {
            "text/plain": [
              "<Figure size 640x480 with 2 Axes>"
            ],
            "image/png": "[encoded data removed]"
          },
          "metadata": {}
        }
      ]
    },
    {
      "cell_type": "code",
      "source": [
        "from sklearn.preprocessing import LabelEncoder\n",
        "\n",
        "encoder = LabelEncoder()\n",
        "for column in categorical_columns:\n",
        "    data[column] = encoder.fit_transform(data[column])"
      ],
      "metadata": {
        "id": "KFhVKoxdaFeA"
      },
      "execution_count": 78,
      "outputs": []
    },
    {
      "cell_type": "code",
      "source": [
        "X = data.drop('Medicine', axis=1)\n",
        "y = data['Medicine']\n",
        "\n",
        "X_train, X_test, y_train, y_test = train_test_split(X, y, test_size=0.2, random_state=42)"
      ],
      "metadata": {
        "id": "A8G95CZCaMNA"
      },
      "execution_count": 79,
      "outputs": []
    },
    {
      "cell_type": "code",
      "source": [
        "X_train = X_train.drop('DateOfBirth', axis=1)\n",
        "X_test = X_test.drop('DateOfBirth', axis=1)\n",
        "\n",
        "\n",
        "dt_classifier = DecisionTreeClassifier(random_state=42)\n",
        "dt_classifier.fit(X_train, y_train)\n",
        "\n",
        "\n",
        "y_pred_dt = dt_classifier.predict(X_test)\n",
        "accuracy_dt = accuracy_score(y_test, y_pred_dt)\n",
        "print(f\"Decision Tree Accuracy: {accuracy_dt}\")"
      ],
      "metadata": {
        "colab": {
          "base_uri": "https://localhost:8080/"
        },
        "id": "asRO1dC7aMY4",
        "outputId": "cfc1efa7-4b75-4932-95b4-709a13e6bded"
      },
      "execution_count": 80,
      "outputs": [
        {
          "output_type": "stream",
          "name": "stdout",
          "text": [
            "Decision Tree Accuracy: 0.8448275862068966\n"
          ]
        }
      ]
    },
    {
      "cell_type": "code",
      "source": [
        "from sklearn.ensemble import RandomForestClassifier\n",
        "\n",
        "rf_classifier = RandomForestClassifier(random_state=42)\n",
        "rf_classifier.fit(X_train, y_train)\n",
        "\n",
        "y_pred_rf = rf_classifier.predict(X_test)\n",
        "accuracy_rf = accuracy_score(y_test, y_pred_rf)\n",
        "print(f\"Random Forest Accuracy: {accuracy_rf}\")"
      ],
      "metadata": {
        "colab": {
          "base_uri": "https://localhost:8080/"
        },
        "id": "AX6f8babaXHA",
        "outputId": "9ed735b1-8a60-419d-8abf-0b9dc6e75712"
      },
      "execution_count": 81,
      "outputs": [
        {
          "output_type": "stream",
          "name": "stdout",
          "text": [
            "Random Forest Accuracy: 0.896551724137931\n"
          ]
        }
      ]
    },
    {
      "cell_type": "code",
      "source": [
        "from sklearn.preprocessing import StandardScaler\n",
        "from sklearn.linear_model import LogisticRegression\n",
        "from sklearn.metrics import accuracy_score\n",
        "\n",
        "# Scale the features\n",
        "scaler = StandardScaler()\n",
        "X_train_scaled = scaler.fit_transform(X_train)\n",
        "X_test_scaled = scaler.transform(X_test)\n",
        "\n",
        "# Train the Logistic Regression model\n",
        "logreg_classifier = LogisticRegression(random_state=42, max_iter=500)\n",
        "logreg_classifier.fit(X_train_scaled, y_train)\n",
        "\n",
        "# Make predictions\n",
        "y_pred_logreg = logreg_classifier.predict(X_test_scaled)\n",
        "\n",
        "# Evaluate accuracy\n",
        "accuracy_logreg = accuracy_score(y_test, y_pred_logreg)\n",
        "print(f\"Logistic Regression Accuracy: {accuracy_logreg}\")\n"
      ],
      "metadata": {
        "colab": {
          "base_uri": "https://localhost:8080/"
        },
        "id": "svQMc8wFaeFh",
        "outputId": "ddf95250-3bf5-4153-d072-110ac467b201"
      },
      "execution_count": 82,
      "outputs": [
        {
          "output_type": "stream",
          "name": "stdout",
          "text": [
            "Logistic Regression Accuracy: 0.5172413793103449\n"
          ]
        }
      ]
    },
    {
      "cell_type": "code",
      "source": [
        "from sklearn.metrics import classification_report\n",
        "\n",
        "# Use zero_division=0 to handle cases where precision or recall is undefined\n",
        "print(\"Decision Tree Classification Report:\")\n",
        "print(classification_report(y_test, y_pred_dt, zero_division=0))\n",
        "\n",
        "print(\"\\nRandom Forest Classification Report:\")\n",
        "print(classification_report(y_test, y_pred_rf, zero_division=0))\n",
        "\n",
        "print(\"\\nLogistic Regression Classification Report:\")\n",
        "print(classification_report(y_test, y_pred_logreg, zero_division=0))\n"
      ],
      "metadata": {
        "colab": {
          "base_uri": "https://localhost:8080/"
        },
        "id": "0KUtETDUag8h",
        "outputId": "cd1eb8d9-cdbc-464e-8f5a-840184b66507"
      },
      "execution_count": 83,
      "outputs": [
        {
          "output_type": "stream",
          "name": "stdout",
          "text": [
            "Decision Tree Classification Report:\n",
            "              precision    recall  f1-score   support\n",
            "\n",
            "           5       0.00      0.00      0.00         0\n",
            "           9       0.00      0.00      0.00         1\n",
            "          10       0.00      0.00      0.00         1\n",
            "          13       0.00      0.00      0.00         1\n",
            "          15       0.00      0.00      0.00         0\n",
            "          19       1.00      1.00      1.00         1\n",
            "          20       1.00      0.50      0.67         2\n",
            "          21       0.00      0.00      0.00         0\n",
            "          22       1.00      1.00      1.00         1\n",
            "          23       1.00      1.00      1.00         3\n",
            "          27       1.00      1.00      1.00         2\n",
            "          28       0.50      1.00      0.67         1\n",
            "          29       0.50      1.00      0.67         1\n",
            "          31       1.00      1.00      1.00         3\n",
            "          32       1.00      1.00      1.00         4\n",
            "          35       0.00      0.00      0.00         0\n",
            "          38       1.00      1.00      1.00         2\n",
            "          40       1.00      1.00      1.00         1\n",
            "          41       1.00      0.67      0.80         3\n",
            "          44       1.00      0.67      0.80         3\n",
            "          45       1.00      1.00      1.00         2\n",
            "          46       1.00      0.50      0.67         2\n",
            "          47       1.00      1.00      1.00         2\n",
            "          50       1.00      1.00      1.00         2\n",
            "          51       0.94      1.00      0.97        15\n",
            "          53       1.00      1.00      1.00         1\n",
            "          54       0.00      0.00      0.00         1\n",
            "          56       0.00      0.00      0.00         0\n",
            "          57       1.00      0.67      0.80         3\n",
            "\n",
            "    accuracy                           0.84        58\n",
            "   macro avg       0.65      0.62      0.62        58\n",
            "weighted avg       0.90      0.84      0.86        58\n",
            "\n",
            "\n",
            "Random Forest Classification Report:\n",
            "              precision    recall  f1-score   support\n",
            "\n",
            "           9       0.00      0.00      0.00         1\n",
            "          10       0.00      0.00      0.00         1\n",
            "          13       0.00      0.00      0.00         1\n",
            "          15       0.00      0.00      0.00         0\n",
            "          19       1.00      1.00      1.00         1\n",
            "          20       1.00      1.00      1.00         2\n",
            "          21       0.00      0.00      0.00         0\n",
            "          22       1.00      1.00      1.00         1\n",
            "          23       1.00      1.00      1.00         3\n",
            "          27       1.00      1.00      1.00         2\n",
            "          28       1.00      1.00      1.00         1\n",
            "          29       0.50      1.00      0.67         1\n",
            "          31       1.00      1.00      1.00         3\n",
            "          32       1.00      1.00      1.00         4\n",
            "          35       0.00      0.00      0.00         0\n",
            "          38       1.00      1.00      1.00         2\n",
            "          39       0.00      0.00      0.00         0\n",
            "          40       1.00      1.00      1.00         1\n",
            "          41       1.00      1.00      1.00         3\n",
            "          44       1.00      1.00      1.00         3\n",
            "          45       1.00      1.00      1.00         2\n",
            "          46       1.00      0.50      0.67         2\n",
            "          47       1.00      1.00      1.00         2\n",
            "          50       1.00      1.00      1.00         2\n",
            "          51       0.94      1.00      0.97        15\n",
            "          53       1.00      1.00      1.00         1\n",
            "          54       0.00      0.00      0.00         1\n",
            "          57       1.00      0.67      0.80         3\n",
            "\n",
            "    accuracy                           0.90        58\n",
            "   macro avg       0.69      0.68      0.68        58\n",
            "weighted avg       0.91      0.90      0.90        58\n",
            "\n",
            "\n",
            "Logistic Regression Classification Report:\n",
            "              precision    recall  f1-score   support\n",
            "\n",
            "           8       0.00      0.00      0.00         0\n",
            "           9       0.00      0.00      0.00         1\n",
            "          10       0.00      0.00      0.00         1\n",
            "          13       0.00      0.00      0.00         1\n",
            "          19       0.00      0.00      0.00         1\n",
            "          20       0.00      0.00      0.00         2\n",
            "          22       1.00      1.00      1.00         1\n",
            "          23       1.00      0.33      0.50         3\n",
            "          24       0.00      0.00      0.00         0\n",
            "          27       0.00      0.00      0.00         2\n",
            "          28       1.00      1.00      1.00         1\n",
            "          29       0.25      1.00      0.40         1\n",
            "          31       0.00      0.00      0.00         3\n",
            "          32       1.00      1.00      1.00         4\n",
            "          38       1.00      1.00      1.00         2\n",
            "          39       0.00      0.00      0.00         0\n",
            "          40       1.00      1.00      1.00         1\n",
            "          41       0.50      0.67      0.57         3\n",
            "          44       0.33      0.33      0.33         3\n",
            "          45       0.00      0.00      0.00         2\n",
            "          46       1.00      0.50      0.67         2\n",
            "          47       1.00      0.50      0.67         2\n",
            "          50       0.67      1.00      0.80         2\n",
            "          51       0.50      0.73      0.59        15\n",
            "          53       0.33      1.00      0.50         1\n",
            "          54       0.00      0.00      0.00         1\n",
            "          57       0.00      0.00      0.00         3\n",
            "\n",
            "    accuracy                           0.52        58\n",
            "   macro avg       0.39      0.41      0.37        58\n",
            "weighted avg       0.48      0.52      0.47        58\n",
            "\n"
          ]
        }
      ]
    },
    {
      "cell_type": "code",
      "source": [
        "import pandas as pd\n",
        "from sklearn.metrics import classification_report\n",
        "\n",
        "# Get classification report for each model\n",
        "report_dt = classification_report(y_test, y_pred_dt, output_dict=True, zero_division=0)\n",
        "report_rf = classification_report(y_test, y_pred_rf, output_dict=True, zero_division=0)\n",
        "report_logreg = classification_report(y_test, y_pred_logreg, output_dict=True, zero_division=0)\n",
        "\n",
        "# Extract the relevant metrics: accuracy, precision, recall, f1-score for the 'macro avg'\n",
        "metrics = ['accuracy', 'precision', 'recall', 'f1-score']\n",
        "\n",
        "# Prepare data for the table: Create a dictionary where keys are the models and values are their respective metrics\n",
        "table_data = {\n",
        "    'Metric': metrics,\n",
        "    'Decision Tree': [\n",
        "        report_dt['accuracy'],\n",
        "        report_dt['macro avg']['precision'],\n",
        "        report_dt['macro avg']['recall'],\n",
        "        report_dt['macro avg']['f1-score']\n",
        "    ],\n",
        "    'Random Forest': [\n",
        "        report_rf['accuracy'],\n",
        "        report_rf['macro avg']['precision'],\n",
        "        report_rf['macro avg']['recall'],\n",
        "        report_rf['macro avg']['f1-score']\n",
        "    ],\n",
        "    'Logistic Regression': [\n",
        "        report_logreg['accuracy'],\n",
        "        report_logreg['macro avg']['precision'],\n",
        "        report_logreg['macro avg']['recall'],\n",
        "        report_logreg['macro avg']['f1-score']\n",
        "    ]\n",
        "}\n",
        "\n",
        "# Create the pandas DataFrame\n",
        "comparison_df = pd.DataFrame(table_data)\n",
        "\n",
        "# Display the table\n",
        "print(\"Model Performance Comparison:\")\n",
        "print(comparison_df)\n"
      ],
      "metadata": {
        "colab": {
          "base_uri": "https://localhost:8080/"
        },
        "id": "4wl2XXMRXqcc",
        "outputId": "e8d9b3ce-3bed-4eb6-87dd-6ea1af31314e"
      },
      "execution_count": 85,
      "outputs": [
        {
          "output_type": "stream",
          "name": "stdout",
          "text": [
            "Model Performance Comparison:\n",
            "      Metric  Decision Tree  Random Forest  Logistic Regression\n",
            "0   accuracy       0.844828       0.896552             0.517241\n",
            "1  precision       0.653017       0.694196             0.391975\n",
            "2     recall       0.620690       0.684524             0.409877\n",
            "3   f1-score       0.621876       0.682181             0.371581\n"
          ]
        }
      ]
    },
    {
      "cell_type": "code",
      "source": [
        "import matplotlib.pyplot as plt\n",
        "from sklearn.metrics import classification_report\n",
        "\n",
        "# Get classification report for each model\n",
        "report_dt = classification_report(y_test, y_pred_dt, output_dict=True, zero_division=0)\n",
        "report_rf = classification_report(y_test, y_pred_rf, output_dict=True, zero_division=0)\n",
        "report_logreg = classification_report(y_test, y_pred_logreg, output_dict=True, zero_division=0)\n",
        "\n",
        "# Extract metrics: precision, recall, f1-score for each class, and accuracy\n",
        "metrics = ['accuracy', 'precision', 'recall', 'f1-score']\n",
        "\n",
        "# Prepare data for plotting\n",
        "models = ['Decision Tree', 'Random Forest', 'Logistic Regression']\n",
        "metric_values = {metric: [report_dt['accuracy'] if metric == 'accuracy' else report_dt['macro avg'][metric],\n",
        "                          report_rf['accuracy'] if metric == 'accuracy' else report_rf['macro avg'][metric],\n",
        "                          report_logreg['accuracy'] if metric == 'accuracy' else report_logreg['macro avg'][metric]]\n",
        "                 for metric in metrics}\n",
        "\n",
        "# Create the bar chart\n",
        "fig, ax = plt.subplots(figsize=(10, 6))\n",
        "\n",
        "x = range(len(models))\n",
        "\n",
        "# Plot each metric (precision, recall, f1-score, accuracy)\n",
        "for i, metric in enumerate(metrics):\n",
        "    ax.bar(x, metric_values[metric], label=metric, width=0.2, align='center', alpha=0.7)\n",
        "\n",
        "ax.set_xticks(x)\n",
        "ax.set_xticklabels(models)\n",
        "\n",
        "ax.set_xlabel('Models')\n",
        "ax.set_ylabel('Scores')\n",
        "ax.set_title('Comparison of Models Based on Performance Metrics')\n",
        "ax.legend(title='Metrics')\n",
        "\n",
        "plt.show()\n"
      ],
      "metadata": {
        "id": "jexL3kOpamBh",
        "colab": {
          "base_uri": "https://localhost:8080/",
          "height": 564
        },
        "outputId": "ea7b9b07-dd3c-4fea-c1ff-48e6201563ef"
      },
      "execution_count": 84,
      "outputs": [
        {
          "output_type": "display_data",
          "data": {
            "text/plain": [
              "<Figure size 1000x600 with 1 Axes>"
            ],
            "image/png": "[encoded data removed]"
          },
          "metadata": {}
        }
      ]
    }
  ]
}